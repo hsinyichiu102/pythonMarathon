{
  "nbformat": 4,
  "nbformat_minor": 0,
  "metadata": {
    "colab": {
      "name": "03_ Numpy.ipynb",
      "provenance": []
    },
    "kernelspec": {
      "name": "python3",
      "display_name": "Python 3"
    }
  },
  "cells": [
    {
      "cell_type": "code",
      "metadata": {
        "id": "tAJ-3FghiMtd"
      },
      "source": [
        "import numpy as np"
      ],
      "execution_count": 1,
      "outputs": []
    },
    {
      "cell_type": "markdown",
      "metadata": {
        "id": "rQNFI1Y9iWxT"
      },
      "source": [
        "題目：\n",
        "\n",
        "\n",
        "1.   正常的談話的聲壓為 20000 微巴斯卡，請問多少分貝?\n",
        "2.   30 分貝的聲壓會是 50 分貝的幾倍?"
      ]
    },
    {
      "cell_type": "code",
      "metadata": {
        "id": "Jh4cm2WOiiy_"
      },
      "source": [
        "def getdb(microph):\n",
        "  return 20*np.log10(microph/20)"
      ],
      "execution_count": 3,
      "outputs": []
    },
    {
      "cell_type": "code",
      "metadata": {
        "colab": {
          "base_uri": "https://localhost:8080/"
        },
        "id": "KduyGlSfmGVc",
        "outputId": "f3f5936d-ebb5-47ff-ae8e-33a476b73a34"
      },
      "source": [
        "getdb(20000)"
      ],
      "execution_count": 4,
      "outputs": [
        {
          "output_type": "execute_result",
          "data": {
            "text/plain": [
              "60.0"
            ]
          },
          "metadata": {
            "tags": []
          },
          "execution_count": 4
        }
      ]
    },
    {
      "cell_type": "code",
      "metadata": {
        "id": "8ezlbCGxmQos"
      },
      "source": [
        "def getMicro(db):\n",
        "  return np.power(10,db/20)*20"
      ],
      "execution_count": 11,
      "outputs": []
    },
    {
      "cell_type": "code",
      "metadata": {
        "colab": {
          "base_uri": "https://localhost:8080/"
        },
        "id": "tbWdsZW3pJMC",
        "outputId": "360f9fad-c3d1-4af6-9532-6c143ef6e9ed"
      },
      "source": [
        "getMicro(50)/getMicro(30)"
      ],
      "execution_count": 13,
      "outputs": [
        {
          "output_type": "execute_result",
          "data": {
            "text/plain": [
              "10.000000000000002"
            ]
          },
          "metadata": {
            "tags": []
          },
          "execution_count": 13
        }
      ]
    }
  ]
}