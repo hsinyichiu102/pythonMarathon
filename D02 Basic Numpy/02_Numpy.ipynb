{
  "nbformat": 4,
  "nbformat_minor": 0,
  "metadata": {
    "colab": {
      "name": "02_Numpy.ipynb",
      "provenance": []
    },
    "kernelspec": {
      "name": "python3",
      "display_name": "Python 3"
    }
  },
  "cells": [
    {
      "cell_type": "code",
      "metadata": {
        "id": "hmDXJ96LZ8_X"
      },
      "source": [
        "import numpy as np"
      ],
      "execution_count": 3,
      "outputs": []
    },
    {
      "cell_type": "markdown",
      "metadata": {
        "id": "bY0j5SoccJAc"
      },
      "source": [
        "**array1 = np.array(range(30))**\n",
        "\n",
        "1.   將上列陣列(array1)，轉成維度為(5X6)的 array，順序按列填充。(hint:order=\"F\")\n",
        "2.   呈上題的 array，找出被 6 除餘 1 的數的索引"
      ]
    },
    {
      "cell_type": "code",
      "metadata": {
        "id": "J49TQk-h9M27",
        "colab": {
          "base_uri": "https://localhost:8080/"
        },
        "outputId": "367f4854-6eb5-47ee-f990-221569175f6d"
      },
      "source": [
        "array1 = np.array(range(30))\n",
        "print(array1)"
      ],
      "execution_count": 4,
      "outputs": [
        {
          "output_type": "stream",
          "text": [
            "[ 0  1  2  3  4  5  6  7  8  9 10 11 12 13 14 15 16 17 18 19 20 21 22 23\n",
            " 24 25 26 27 28 29]\n"
          ],
          "name": "stdout"
        }
      ]
    },
    {
      "cell_type": "code",
      "metadata": {
        "colab": {
          "base_uri": "https://localhost:8080/"
        },
        "id": "uXi5mjalb0yM",
        "outputId": "bf0e446d-965e-4fb0-933b-06dce6062472"
      },
      "source": [
        "array1.reshape((5,6),order=\"F\")"
      ],
      "execution_count": 10,
      "outputs": [
        {
          "output_type": "execute_result",
          "data": {
            "text/plain": [
              "array([[ 0,  5, 10, 15, 20, 25],\n",
              "       [ 1,  6, 11, 16, 21, 26],\n",
              "       [ 2,  7, 12, 17, 22, 27],\n",
              "       [ 3,  8, 13, 18, 23, 28],\n",
              "       [ 4,  9, 14, 19, 24, 29]])"
            ]
          },
          "metadata": {
            "tags": []
          },
          "execution_count": 10
        }
      ]
    },
    {
      "cell_type": "code",
      "metadata": {
        "id": "q0jIr2_qaFTa"
      },
      "source": [
        "array2=array1.reshape((5,6),order=\"F\")"
      ],
      "execution_count": 8,
      "outputs": []
    },
    {
      "cell_type": "code",
      "metadata": {
        "colab": {
          "base_uri": "https://localhost:8080/"
        },
        "id": "66u0Xv5Qadyv",
        "outputId": "550464e4-7156-49c3-8543-96d4b9a78434"
      },
      "source": [
        "np.where(array2%6==1)"
      ],
      "execution_count": 9,
      "outputs": [
        {
          "output_type": "execute_result",
          "data": {
            "text/plain": [
              "(array([0, 1, 2, 3, 4]), array([5, 0, 1, 2, 3]))"
            ]
          },
          "metadata": {
            "tags": []
          },
          "execution_count": 9
        }
      ]
    },
    {
      "cell_type": "code",
      "metadata": {
        "id": "9JCJ-f_kcbXV"
      },
      "source": [
        "array1=np.array(range(10))"
      ],
      "execution_count": null,
      "outputs": []
    }
  ]
}