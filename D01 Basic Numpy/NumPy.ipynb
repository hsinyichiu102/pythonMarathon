{
  "nbformat": 4,
  "nbformat_minor": 0,
  "metadata": {
    "colab": {
      "name": "NumPy.ipynb",
      "provenance": []
    },
    "kernelspec": {
      "name": "python3",
      "display_name": "Python 3"
    }
  },
  "cells": [
    {
      "cell_type": "code",
      "metadata": {
        "colab": {
          "base_uri": "https://localhost:8080/",
          "height": 35
        },
        "id": "hWnOtc84M7yU",
        "outputId": "55780ccf-461a-4795-b5bf-475c7c38c599"
      },
      "source": [
        "import numpy as np\n",
        "np.__version__"
      ],
      "execution_count": 3,
      "outputs": [
        {
          "output_type": "execute_result",
          "data": {
            "application/vnd.google.colaboratory.intrinsic+json": {
              "type": "string"
            },
            "text/plain": [
              "'1.19.5'"
            ]
          },
          "metadata": {
            "tags": []
          },
          "execution_count": 3
        }
      ]
    },
    {
      "cell_type": "markdown",
      "metadata": {
        "id": "JB5qYtiSU8iD"
      },
      "source": [
        "**作業目標:**\n",
        "\n",
        "在array中，可以靈活應用索引幫助資料擷取\n",
        "\n",
        "作業重點:\n",
        "\n",
        "陣列的索引、切片、以及屬性，皆需要注意使用方式\n",
        "\n",
        "陣列之中索引式由0開始請同學注意\n",
        "\n",
        "**題目:**\n",
        "\n",
        "1.生成一個等差數列，首數為0，尾數為20，公差為1的數列。\n",
        "\n",
        "2.呈上題，將以上數列取出偶數。\n",
        "\n",
        "3.呈1題，將數列取出3的倍數。"
      ]
    },
    {
      "cell_type": "code",
      "metadata": {
        "id": "eIblUfs6OJBu"
      },
      "source": [
        "arr=np.arange(21)"
      ],
      "execution_count": 20,
      "outputs": []
    },
    {
      "cell_type": "code",
      "metadata": {
        "colab": {
          "base_uri": "https://localhost:8080/"
        },
        "id": "zRyEQyEARVmh",
        "outputId": "7a48290e-7c94-41ad-f8f6-ac96765246a7"
      },
      "source": [
        "arr[2:21:2]"
      ],
      "execution_count": 17,
      "outputs": [
        {
          "output_type": "execute_result",
          "data": {
            "text/plain": [
              "array([ 2,  4,  6,  8, 10, 12, 14, 16, 18, 20])"
            ]
          },
          "metadata": {
            "tags": []
          },
          "execution_count": 17
        }
      ]
    },
    {
      "cell_type": "code",
      "metadata": {
        "colab": {
          "base_uri": "https://localhost:8080/"
        },
        "id": "1h45QOjgPtuJ",
        "outputId": "fe141455-b315-46b9-dbd7-c2089d10aae9"
      },
      "source": [
        "arr[3:21:3]"
      ],
      "execution_count": 18,
      "outputs": [
        {
          "output_type": "execute_result",
          "data": {
            "text/plain": [
              "array([ 3,  6,  9, 12, 15, 18])"
            ]
          },
          "metadata": {
            "tags": []
          },
          "execution_count": 18
        }
      ]
    }
  ]
}